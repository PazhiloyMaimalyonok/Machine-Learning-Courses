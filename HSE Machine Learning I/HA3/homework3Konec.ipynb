{
 "cells": [
  {
   "cell_type": "markdown",
   "metadata": {
    "colab_type": "text",
    "id": "l6BCHpVDFZOM"
   },
   "source": [
    "## Машинное обучение\n",
    "\n",
    "## Домашнее задание 3\n"
   ]
  },
  {
   "cell_type": "markdown",
   "metadata": {
    "colab_type": "text",
    "id": "57DRRVx5FZOU"
   },
   "source": [
    "### О задании\n",
    "\n",
    "Ниже даны несколько заданий. Первые два из них самодостаточные, они позволяют лучше познакомиться с логистической регрессией и ROC-кривой. Далее 3 задания выполняются на реальном наборе данных: вам предлагается настроить логистическую регрессию на них, измерить различные метрики качества, попробовать закодировать категориальные признаки и посмотреть на изменение качества предсказаний. Также в последнем задании предлагается самостоятельно разобраться с методами калибровки вероятностей. \n",
    "\n",
    "В каждом задании указано число баллов. Почти все задание основано на использовании готовых методов из sklearn и анализе результатов их работы."
   ]
  },
  {
   "cell_type": "code",
   "execution_count": 21,
   "metadata": {
    "colab": {
     "base_uri": "https://localhost:8080/",
     "height": 34
    },
    "colab_type": "code",
    "id": "43WuRJNZFZOY",
    "outputId": "cbc28387-1b77-494e-928c-d5a3e9e416e6"
   },
   "outputs": [
    {
     "name": "stdout",
     "output_type": "stream",
     "text": [
      "Populating the interactive namespace from numpy and matplotlib\n"
     ]
    }
   ],
   "source": [
    "%pylab inline\n",
    "import pandas as pd\n",
    "import numpy as np\n",
    "\n",
    "from sklearn.model_selection import train_test_split\n",
    "from sklearn.datasets import make_classification\n",
    "from sklearn.linear_model import LogisticRegression\n",
    "from sklearn import metrics"
   ]
  },
  {
   "cell_type": "markdown",
   "metadata": {
    "colab_type": "text",
    "id": "BYI2Dsu1FZOp"
   },
   "source": [
    "### Задание 1. Обучение логистической регресии на синтетических данных. (2 балла)\n",
    "\n",
    "Сгенерируйте синтетический датасет для бинарной классификации с помощью `make_classification` с 2 признаками, обучите на нём логистическую регресию. Визуализируйте разделяющую прямую и все объекты. Из иллюстрации должно быть понятно, к какому классу принадлежит объект, и к какому классу его отнесла регресия (это удобно демонстрировать заливкой цветом). "
   ]
  },
  {
   "cell_type": "code",
   "execution_count": 2,
   "metadata": {
    "colab": {},
    "colab_type": "code",
    "id": "tbBIxtdVFZOr"
   },
   "outputs": [
    {
     "name": "stderr",
     "output_type": "stream",
     "text": [
      "C:\\ProgramData\\Anaconda\\lib\\site-packages\\sklearn\\linear_model\\logistic.py:433: FutureWarning: Default solver will be changed to 'lbfgs' in 0.22. Specify a solver to silence this warning.\n",
      "  FutureWarning)\n"
     ]
    },
    {
     "data": {
      "text/plain": [
       "LogisticRegression(C=1.0, class_weight=None, dual=False, fit_intercept=True,\n",
       "          intercept_scaling=1, max_iter=100, multi_class='warn',\n",
       "          n_jobs=None, penalty='l2', random_state=None, solver='warn',\n",
       "          tol=0.0001, verbose=0, warm_start=False)"
      ]
     },
     "execution_count": 2,
     "metadata": {},
     "output_type": "execute_result"
    }
   ],
   "source": [
    "dataset= make_classification(n_features=2, n_redundant=0)\n",
    "X=dataset[0]\n",
    "y=dataset[1]\n",
    "log=LogisticRegression()\n",
    "log.fit(X,y)"
   ]
  },
  {
   "cell_type": "markdown",
   "metadata": {
    "colab_type": "text",
    "id": "wd3oU6FFFZOz"
   },
   "source": [
    "Взял код графика отсюда https://habr.com/ru/company/ods/blog/323890/"
   ]
  },
  {
   "cell_type": "code",
   "execution_count": 0,
   "metadata": {
    "colab": {},
    "colab_type": "code",
    "id": "g6DtN7X6FZO1"
   },
   "outputs": [],
   "source": [
    "from matplotlib.colors import ListedColormap\n",
    "colors = ListedColormap(['red', 'yellow'])\n",
    "\n",
    "def plot_boundary(clf, X, y, plot_title='Log Regression'):\n",
    "    xx, yy = np.meshgrid(np.linspace(X[:,0].min(), X[:,0].max(), 50),\n",
    "    np.linspace(X[:,1].min(), X[:,1].max(), 50))\n",
    "    clf.fit(X, y)\n",
    "    # plot the decision function for each datapoint on the grid\n",
    "    Z = clf.predict_proba(np.vstack((xx.ravel(), yy.ravel())).T)[:, 1]\n",
    "    Z = Z.reshape(xx.shape)\n",
    "    image = plt.imshow(Z, interpolation='nearest',\n",
    "    extent=(xx.min(), xx.max(), yy.min(), yy.max()),\n",
    "    aspect='auto', origin='lower', cmap=colors)\n",
    "    contours = plt.contour(xx, yy, Z, levels=[0], linewidths=2,\n",
    "    linetypes='--')\n",
    "    plt.scatter(X[:, 0], X[:, 1], s=30, c=y, cmap=plt.cm.Paired)\n",
    "    plt.xlabel(r'X1')\n",
    "    plt.ylabel(r'X2')\n",
    "    plt.colorbar(image)\n",
    "    plt.title(plot_title, fontsize=12)\n",
    "    plt.show();"
   ]
  },
  {
   "cell_type": "code",
   "execution_count": 0,
   "metadata": {
    "colab": {},
    "colab_type": "code",
    "id": "79E6vN0nFZO_",
    "outputId": "e30801e2-a4c0-49a2-9abe-9c1af71e2bb4"
   },
   "outputs": [
    {
     "name": "stderr",
     "output_type": "stream",
     "text": [
      "C:\\ProgramData\\Anaconda\\lib\\site-packages\\sklearn\\linear_model\\logistic.py:433: FutureWarning: Default solver will be changed to 'lbfgs' in 0.22. Specify a solver to silence this warning.\n",
      "  FutureWarning)\n",
      "C:\\ProgramData\\Anaconda\\lib\\site-packages\\matplotlib\\contour.py:1243: UserWarning: No contour levels were found within the data range.\n",
      "  warnings.warn(\"No contour levels were found\"\n",
      "C:\\ProgramData\\Anaconda\\lib\\site-packages\\matplotlib\\contour.py:1000: UserWarning: The following kwargs were not used by contour: 'linetypes'\n",
      "  s)\n"
     ]
    },
    {
     "data": {
      "image/png": "[encoded data removed]",
      "text/plain": [
       "<Figure size 432x288 with 2 Axes>"
      ]
     },
     "metadata": {
      "needs_background": "light",
      "tags": []
     },
     "output_type": "display_data"
    }
   ],
   "source": [
    "plot_boundary(log, X,y)"
   ]
  },
  {
   "cell_type": "markdown",
   "metadata": {
    "colab_type": "text",
    "id": "J4fRXSX1FZPG"
   },
   "source": [
    "### Задание 2. Самостоятельная реализация вычисления AUC ROC. (3 балла)\n",
    "\n",
    "Напишите функцию, которая берет на вход `numpy`-вектор правильных ответов `y` (из 0 и 1) и `numpy`-вектор вещественных предсказаний классификатора (длина обоих векторов равна числу объектов) и возвращает значение AUC ROC. Как обычно, можно пользоваться только средствами `numpy` :) Считайте, что в векторе `score_predicted` все элементы различны."
   ]
  },
  {
   "cell_type": "code",
   "execution_count": 118,
   "metadata": {
    "colab": {},
    "colab_type": "code",
    "id": "NuWwCeiMFZPI"
   },
   "outputs": [],
   "source": [
    "def roc_auc(y_true, score_predicted):#score_predicted - вектор вероятности принадлежать классу 1,т.е. log.predict_proba(X)[:,1]\n",
    "    recall=[]\n",
    "    FPR=[]\n",
    "    \n",
    "    matrix=np.hstack([y_true.reshape(-1,1),score_predicted.reshape(-1,1)])\n",
    "    ind=np.argsort(matrix[:,1], axis=0)\n",
    "    sort= matrix[ind.ravel(),:] \n",
    "    \n",
    "    pudge3228=np.zeros(y_true.shape)\n",
    "    for i in sort[:,1]:\n",
    "        otsechenie= i\n",
    "        np.place(pudge3228, score_predicted<otsechenie, 0)\n",
    "        np.place(pudge3228, score_predicted>=otsechenie, 1)\n",
    "        Ugadaly1=pudge3228.dot(y_true)\n",
    "        FPR.append((pudge3228.sum()-Ugadaly1)/(y_true.shape[0]-y_true.sum()))\n",
    "        recall.append(Ugadaly1/y_true.sum())\n",
    "    return np.trapz(recall, x=FPR)*(-1)"
   ]
  },
  {
   "cell_type": "markdown",
   "metadata": {
    "colab_type": "text",
    "id": "kjuUTs6-FZPk"
   },
   "source": [
    "Напишите юнит-тесты (не менее 3) к вашей реализации. Тест — это функция, которая подает на вход `roc_auc` некоторые заранее определенные векторы и проверяет корректность ответа (для заданных векторов вы знаете, какой должен быть ответ). Например, для вызова `roc_auc([0, 1], [0.2, 0.7])` функция должна вернуть 1. Тесты должны проверять разные сценарии работы функции (например, не нужно писать несколько тестов, которые проверяют что в случае идеального классификатора roc-auc равен 1). В юнит-тестах удобно использовать [assert](https://stackoverflow.com/questions/5142418/what-is-the-use-of-assert-in-python)-ы."
   ]
  },
  {
   "cell_type": "code",
   "execution_count": 129,
   "metadata": {
    "colab": {},
    "colab_type": "code",
    "id": "vievaPGaFZPm"
   },
   "outputs": [],
   "source": [
    "import random\n",
    "\n",
    "def test3():\n",
    "    random.seed(96)\n",
    "    y_true=[]\n",
    "    score_predicted=[]\n",
    "    for i in range(random.randint(5,100)):\n",
    "        y_true.append(random.randint(0,1))\n",
    "        score_predicted.append(random.random())\n",
    "    assert roc_auc(np.array(y_true),np.array(score_predicted) )== metrics.roc_auc_score(np.array(y_true),np.array(score_predicted))\n",
    "    \n",
    "def test4():\n",
    "    random.seed(156)\n",
    "    y_true=[]\n",
    "    score_predicted=[]\n",
    "    for i in range(random.randint(5,100)):\n",
    "        y_true.append(random.randint(0,1))\n",
    "        score_predicted.append(random.random())\n",
    "    assert roc_auc(np.array(y_true),np.array(score_predicted) )== metrics.roc_auc_score(np.array(y_true),np.array(score_predicted)) \n",
    "    \n",
    "def test5():\n",
    "    random.seed(13)\n",
    "    y_true=[]\n",
    "    score_predicted=[]\n",
    "    for i in range(random.randint(5,100)):\n",
    "        y_true.append(random.randint(0,1))\n",
    "        score_predicted.append(random.random())\n",
    "    assert roc_auc(np.array(y_true),np.array(score_predicted) )== metrics.roc_auc_score(np.array(y_true),np.array(score_predicted)) "
   ]
  },
  {
   "cell_type": "code",
   "execution_count": 130,
   "metadata": {},
   "outputs": [],
   "source": [
    "test3()"
   ]
  },
  {
   "cell_type": "code",
   "execution_count": 131,
   "metadata": {},
   "outputs": [],
   "source": [
    "test4()"
   ]
  },
  {
   "cell_type": "code",
   "execution_count": 132,
   "metadata": {},
   "outputs": [],
   "source": [
    "test5()"
   ]
  },
  {
   "cell_type": "markdown",
   "metadata": {
    "colab_type": "text",
    "id": "pGHjY5X1FZP0"
   },
   "source": [
    "### Задание 3. Обучение логистической регрессии на реальных данных и оценка качества классификации (4 балла)\n",
    "\n",
    "Полезные функции и классы из scikit-learn для этого задания: confusion_matrix, precision_recall_curve, average_precision_score, train_test_split, StandardScaler, roc-curve, roc_auc_score."
   ]
  },
  {
   "cell_type": "markdown",
   "metadata": {
    "colab_type": "text",
    "id": "QY8G2hecFZP4"
   },
   "source": [
    "Загрузим данные с конкурса [Kaggle Porto Seguro’s Safe Driver Prediction](https://www.kaggle.com/c/porto-seguro-safe-driver-prediction) (вам нужна только обучающая выборка). Задача состоит в определении водителей, которые в ближайший год воспользуются своей автомобильной страховкой (бинарная классификация). Но для нас важна будет не сама задача, а только её данные. При этом под нужды задания мы немного модифицируем датасет."
   ]
  },
  {
   "cell_type": "markdown",
   "metadata": {
    "colab_type": "text",
    "id": "qYEzf-DPGG-6"
   },
   "source": [
    "**На моем компьютере не хватало памяти для задания 4, поэтому пришлось делать через колаб, поэтому файл с данными расположен так неудобно**"
   ]
  },
  {
   "cell_type": "code",
   "execution_count": 0,
   "metadata": {
    "colab": {},
    "colab_type": "code",
    "id": "M8VAdu_DGX6M"
   },
   "outputs": [],
   "source": [
    "from google.colab import drive\n",
    "drive.mount('/content/drive')"
   ]
  },
  {
   "cell_type": "code",
   "execution_count": 0,
   "metadata": {
    "colab": {},
    "colab_type": "code",
    "id": "H0Nvgfv4FZP8"
   },
   "outputs": [],
   "source": [
    "data = pd.read_csv('/content/drive/My Drive/data/train.csv', index_col=0)\n",
    "target = data.target.values\n",
    "data = data.drop('target', axis=1)\n"
   ]
  },
  {
   "cell_type": "markdown",
   "metadata": {
    "colab_type": "text",
    "id": "31gd9EwuFZQE"
   },
   "source": [
    "Пересемплируем выборку так, чтобы положительных и отрицательных объектов в выборке было одинаковое число. Разделим на обучающую и тестовую выборки."
   ]
  },
  {
   "cell_type": "code",
   "execution_count": 0,
   "metadata": {
    "colab": {},
    "colab_type": "code",
    "id": "O6qdO8j8FZQG"
   },
   "outputs": [],
   "source": [
    "# some resampling\n",
    "np.random.seed(910)\n",
    "mask_plus = np.random.choice(np.where(target == 1)[0], 100000, replace=True)\n",
    "mask_zero = np.random.choice(np.where(target == 0)[0], 100000, replace=True)\n",
    "\n",
    "data = pd.concat((data.iloc[mask_plus], data.iloc[mask_zero]))\n",
    "target = np.hstack((target[mask_plus], target[mask_zero]))\n",
    "\n",
    "X_train, X_test, y_train, y_test = train_test_split(data, target, test_size=0.5)"
   ]
  },
  {
   "cell_type": "markdown",
   "metadata": {
    "colab_type": "text",
    "id": "P3rddGU_FZQR"
   },
   "source": [
    "Отнормируйте признаки (можно воспользоваться StandardScaler или сделать это вручную). Пока не будем обращать внимание на то, что некоторые признаки категориальные (этим мы займёмся позже)."
   ]
  },
  {
   "cell_type": "code",
   "execution_count": 0,
   "metadata": {
    "colab": {},
    "colab_type": "code",
    "id": "AuI05kQQFZQT"
   },
   "outputs": [],
   "source": [
    "from sklearn.preprocessing import StandardScaler\n",
    "scaler=StandardScaler()\n",
    "scaler.fit(X_train)\n",
    "scaler.transform(X_train)\n",
    "scaler.transform(X_test)"
   ]
  },
  {
   "cell_type": "markdown",
   "metadata": {
    "colab_type": "text",
    "id": "C3HA7HzdFZQd"
   },
   "source": [
    "Обучите логистическую регрессию с удобными для вас параметрами. Сделайте предсказание на тестовой части выборки."
   ]
  },
  {
   "cell_type": "code",
   "execution_count": 21,
   "metadata": {
    "colab": {
     "base_uri": "https://localhost:8080/",
     "height": 105
    },
    "colab_type": "code",
    "id": "gDJSFSuCFZQh",
    "outputId": "dcb4fdb9-4396-45cc-f539-9ba42ca49b48"
   },
   "outputs": [
    {
     "name": "stderr",
     "output_type": "stream",
     "text": [
      "/usr/local/lib/python3.6/dist-packages/sklearn/linear_model/logistic.py:432: FutureWarning: Default solver will be changed to 'lbfgs' in 0.22. Specify a solver to silence this warning.\n",
      "  FutureWarning)\n"
     ]
    },
    {
     "name": "stdout",
     "output_type": "stream",
     "text": [
      "CPU times: user 10.9 s, sys: 28.7 ms, total: 11 s\n",
      "Wall time: 11 s\n"
     ]
    }
   ],
   "source": [
    "%%time\n",
    "log=LogisticRegression()\n",
    "log.fit(X_train,y_train)\n",
    "log.predict(X_test)"
   ]
  },
  {
   "cell_type": "markdown",
   "metadata": {
    "colab_type": "text",
    "id": "0I3z1_YtFZQq"
   },
   "source": [
    "Постройку ROC-кривую и Precision-Recall-кривую, посчитайте ROC-AUC и PR-AUC. Какие наблюдения и выводы по ним можно сделать? (В свободной форме)"
   ]
  },
  {
   "cell_type": "markdown",
   "metadata": {
    "colab_type": "text",
    "id": "u9CyCRfAFZQt"
   },
   "source": [
    "Код для ROC взят отсюда https://geekquestion.com/10908405-kak-postroit-krivuju-roc-v-python/\n",
    "\n",
    "Код для PR curve взят с документации https://scikit-learn.org/0.21/auto_examples/model_selection/plot_precision_recall.html#sphx-glr-auto-examples-model-selection-plot-precision-recall-py"
   ]
  },
  {
   "cell_type": "code",
   "execution_count": 0,
   "metadata": {
    "colab": {},
    "colab_type": "code",
    "id": "e_dFSRmVFZQw",
    "outputId": "a8ff428a-9365-4da6-f5a0-c71d93047f76"
   },
   "outputs": [
    {
     "data": {
      "image/png": "[encoded data removed]",
      "text/plain": [
       "<Figure size 432x288 with 1 Axes>"
      ]
     },
     "metadata": {
      "needs_background": "light",
      "tags": []
     },
     "output_type": "display_data"
    },
    {
     "data": {
      "image/png": "[encoded data removed]",
      "text/plain": [
       "<Figure size 432x288 with 1 Axes>"
      ]
     },
     "metadata": {
      "needs_background": "light",
      "tags": []
     },
     "output_type": "display_data"
    }
   ],
   "source": [
    "#ROC\n",
    "from sklearn import metrics\n",
    "\n",
    "probs = log.predict_proba(X_test)\n",
    "preds = probs[:,1]\n",
    "fpr, tpr, threshold = metrics.roc_curve(y_test, preds)\n",
    "roc_auc = metrics.auc(fpr, tpr)\n",
    "\n",
    "import matplotlib.pyplot as plt\n",
    "plt.title('ROC')\n",
    "plt.plot(fpr, tpr, 'b', label = 'AUC = %0.2f' % roc_auc)\n",
    "plt.legend(loc = 'lower right')\n",
    "plt.xlim([0, 1])\n",
    "plt.ylim([0, 1])\n",
    "plt.ylabel('Recall')\n",
    "plt.xlabel('FPR')\n",
    "plt.show();\n",
    "\n",
    "#Precison-Recall\n",
    "from inspect import signature\n",
    "\n",
    "precision, recall, _ = metrics.precision_recall_curve(y_test, preds)\n",
    "step_kwargs = ({'step': 'post'}\n",
    "               if 'step' in signature(plt.fill_between).parameters\n",
    "               else {})\n",
    "plt.step(recall, precision, color='b', alpha=0.2,\n",
    "         where='post')\n",
    "plt.fill_between(recall, precision, alpha=0.2, color='b', **step_kwargs)\n",
    "\n",
    "plt.xlabel('Recall')\n",
    "plt.ylabel('Precision')\n",
    "plt.ylim([0.0, 1.05])\n",
    "plt.xlim([0.0, 1.0])\n",
    "plt.title('Precision-Recall curve')\n",
    "plt.show();"
   ]
  },
  {
   "cell_type": "code",
   "execution_count": 0,
   "metadata": {
    "colab": {},
    "colab_type": "code",
    "id": "rcVP2FsOFZQ4",
    "outputId": "630f234e-c1d0-42e3-e60b-d8ce2d03ab57"
   },
   "outputs": [
    {
     "name": "stdout",
     "output_type": "stream",
     "text": [
      "ROC-AUC: 0.6250596178008585\n",
      "PR-AUC: 0.6128804401176504\n"
     ]
    }
   ],
   "source": [
    "print('ROC-AUC:', roc_auc)\n",
    "print('PR-AUC:', metrics.average_precision_score(y_test, preds))"
   ]
  },
  {
   "cell_type": "markdown",
   "metadata": {
    "colab_type": "text",
    "id": "cA0NeRgRFZRB"
   },
   "source": [
    "Предположим, что наш алгоритм должен обеспечивать полноту не менее 0.7. Какому порогу бинаризации вероятностей это будет соответствовать? Какую точность (precision) мы получим? Постройте матрицу ошибок для данного порога. Что вы можете сказать о таком алгоритме? (В свободной форме)"
   ]
  },
  {
   "cell_type": "code",
   "execution_count": 7,
   "metadata": {
    "colab": {
     "base_uri": "https://localhost:8080/",
     "height": 34
    },
    "colab_type": "code",
    "id": "zwpJTQ9zFZRF",
    "outputId": "56a277d3-97ec-4d34-d904-ded5e038b8ea"
   },
   "outputs": [
    {
     "name": "stdout",
     "output_type": "stream",
     "text": [
      "Так как recall равен 0.7, то количество правильно предсказанных объектов первого класса должно быть равно 35004.2\n"
     ]
    }
   ],
   "source": [
    "print('Так как recall равен 0.7, то количество правильно предсказанных объектов первого класса должно быть равно',y_test.sum()*0.7)"
   ]
  },
  {
   "cell_type": "code",
   "execution_count": 0,
   "metadata": {
    "colab": {},
    "colab_type": "code",
    "id": "mpILxPXxFZRa",
    "outputId": "70bdbd6a-6bbc-4f39-ea94-8ff6b604a555"
   },
   "outputs": [
    {
     "name": "stdout",
     "output_type": "stream",
     "text": [
      "Порог= 1.0\n",
      "Сумма верно отмеченных объектов 1 класса= 0.0\n",
      "Порог= 0.9\n",
      "Сумма верно отмеченных объектов 1 класса= 35.0\n",
      "Порог= 0.8\n",
      "Сумма верно отмеченных объектов 1 класса= 794.0\n",
      "Порог= 0.7000000000000001\n",
      "Сумма верно отмеченных объектов 1 класса= 3497.0\n",
      "Порог= 0.6000000000000001\n",
      "Сумма верно отмеченных объектов 1 класса= 12001.0\n",
      "Порог= 0.5\n",
      "Сумма верно отмеченных объектов 1 класса= 27469.0\n",
      "Порог= 0.4\n",
      "Сумма верно отмеченных объектов 1 класса= 43713.0\n",
      "Порог= 0.30000000000000004\n",
      "Сумма верно отмеченных объектов 1 класса= 49628.0\n",
      "Порог= 0.2\n",
      "Сумма верно отмеченных объектов 1 класса= 50006.0\n",
      "Порог= 0.1\n",
      "Сумма верно отмеченных объектов 1 класса= 50006.0\n",
      "Порог= 0.0\n",
      "Сумма верно отмеченных объектов 1 класса= 50006.0\n"
     ]
    }
   ],
   "source": [
    "pudge3228=np.zeros(preds.shape)\n",
    "for i in range(10,-1,-1):\n",
    "    otsechenie= i*0.1\n",
    "    print('Порог=',otsechenie)\n",
    "    np.place(pudge3228, preds<otsechenie, 0)\n",
    "    np.place(pudge3228, preds>=otsechenie, 1)\n",
    "    Ugadaly1=pudge3228.dot(y_test)\n",
    "    print(\"Сумма верно отмеченных объектов 1 класса=\",Ugadaly1)"
   ]
  },
  {
   "cell_type": "markdown",
   "metadata": {
    "colab_type": "text",
    "id": "YlIBCK1AFZRk"
   },
   "source": [
    "Видимо, порог отсечения между 0.4 и 0.5"
   ]
  },
  {
   "cell_type": "code",
   "execution_count": 0,
   "metadata": {
    "colab": {},
    "colab_type": "code",
    "id": "8IZo5y1vFZRm",
    "outputId": "4f4b80d5-d740-4db3-d1e9-fd3e4eb9efc7"
   },
   "outputs": [
    {
     "name": "stdout",
     "output_type": "stream",
     "text": [
      "Порог= 0.5\n",
      "Сумма верно отмеченных объектов 1 класса= 27469.0\n",
      "Порог= 0.49\n",
      "Сумма верно отмеченных объектов 1 класса= 29357.0\n",
      "Порог= 0.48\n",
      "Сумма верно отмеченных объектов 1 класса= 31045.0\n",
      "Порог= 0.47000000000000003\n",
      "Сумма верно отмеченных объектов 1 класса= 32778.0\n",
      "Порог= 0.46\n",
      "Сумма верно отмеченных объектов 1 класса= 34524.0\n",
      "Порог= 0.45\n",
      "Сумма верно отмеченных объектов 1 класса= 36178.0\n",
      "Порог= 0.44\n",
      "Сумма верно отмеченных объектов 1 класса= 37806.0\n",
      "Порог= 0.43\n",
      "Сумма верно отмеченных объектов 1 класса= 39527.0\n",
      "Порог= 0.42\n",
      "Сумма верно отмеченных объектов 1 класса= 41006.0\n",
      "Порог= 0.41000000000000003\n",
      "Сумма верно отмеченных объектов 1 класса= 42355.0\n"
     ]
    }
   ],
   "source": [
    "pudge3228=np.zeros(preds.shape)\n",
    "for i in range(50,40,-1):\n",
    "    otsechenie= i*0.01\n",
    "    print('Порог=',otsechenie)\n",
    "    np.place(pudge3228, preds<otsechenie, 0)\n",
    "    np.place(pudge3228, preds>=otsechenie, 1)\n",
    "    Ugadaly1=pudge3228.dot(y_test)\n",
    "    print(\"Сумма верно отмеченных объектов 1 класса=\",Ugadaly1)"
   ]
  },
  {
   "cell_type": "markdown",
   "metadata": {
    "colab_type": "text",
    "id": "fhhOHYMTFZRt"
   },
   "source": [
    "Видимо, порог отсечения равен 0.455\n",
    "При recall>=0.7 значение precision примерно <= 0.6"
   ]
  },
  {
   "cell_type": "code",
   "execution_count": 0,
   "metadata": {
    "colab": {},
    "colab_type": "code",
    "id": "HW5Up1JGFZRw",
    "outputId": "46f0e010-fa97-46d4-bf24-bf81f0a63cdd"
   },
   "outputs": [
    {
     "data": {
      "image/png": "[encoded data removed]",
      "text/plain": [
       "<Figure size 432x288 with 1 Axes>"
      ]
     },
     "metadata": {
      "tags": []
     },
     "output_type": "display_data"
    }
   ],
   "source": [
    "pudge3228=np.zeros(preds.shape)\n",
    "np.place(pudge3228, preds<0.455, 0)\n",
    "np.place(pudge3228, preds>=0.455, 1)\n",
    "tn, fp, fn, tp=metrics.confusion_matrix(y_test,pudge3228).ravel()\n",
    "conf_mat= np.array([[tp,fp],[fn,tn]])\n",
    "import seaborn as sn\n",
    "     \n",
    "df_cm = pd.DataFrame(conf_mat, range(2),\n",
    "                  range(2))\n",
    "sn.set(font_scale=1.4)\n",
    "sn.heatmap(df_cm, annot=True,annot_kws={\"size\": 14}, fmt='d',cbar=False,xticklabels=[1,0], yticklabels=[1,0])\n",
    "plt.ylabel('Predicted')\n",
    "plt.xlabel('True')\n",
    "plt.suptitle('Confusion Matrix')\n",
    "plt.show()"
   ]
  },
  {
   "cell_type": "markdown",
   "metadata": {
    "colab_type": "text",
    "id": "uRDJa7xpFZR2"
   },
   "source": [
    "При значении полноты равном 0.7 мы жертвуем точностью. Такой алгоритм будет чаще ошибаться, чем другой с большей точностью и меньшей полнотой, но зато чаще находить объектов заданного класса. Например, алгоритм с такой полнотой будет нужен, когда мы определяем потенциально больных страшной болезнью. Так как нам ничего не стоит отправить их на медосмотр, но если мы не выявим у них болезнь, то они умрут. Поэтому цена ошибки не так важна, как цена \"не нахождения\"."
   ]
  },
  {
   "cell_type": "markdown",
   "metadata": {
    "colab_type": "text",
    "id": "zssxoAStFZR4"
   },
   "source": [
    "### Задание 4. Кодирование категориальных признаков (1 балл)\n",
    "\n",
    "Закодируйте все категориальные признаки с помощью one-hot-кодирования. Обучите логистическую регрессию и посмотрите, как изменилось качество моделей. Измерьте время, потребовавшееся на обучение модели."
   ]
  },
  {
   "cell_type": "markdown",
   "metadata": {
    "colab_type": "text",
    "id": "vXAaMYzyFZR6"
   },
   "source": [
    "Реализация взята отсюда https://www.kaggle.com/danofer/xgb-onehot-encoding-lb-0-281"
   ]
  },
  {
   "cell_type": "code",
   "execution_count": 0,
   "metadata": {
    "colab": {},
    "colab_type": "code",
    "id": "bR_NzMWwFZR8"
   },
   "outputs": [],
   "source": [
    "cat_values = [s for s in data.columns if \"_cat\" in s]\n",
    "combine=data\n",
    "for column in cat_values:\n",
    "    temp=pd.get_dummies(pd.Series(combine[column]))\n",
    "    combine=pd.concat([combine,temp],axis=1)\n",
    "    combine=combine.drop([column],axis=1) \n",
    "\n"
   ]
  },
  {
   "cell_type": "code",
   "execution_count": 0,
   "metadata": {
    "colab": {},
    "colab_type": "code",
    "id": "bomahstiFZSD"
   },
   "outputs": [],
   "source": [
    "X_train2, X_test2, y_train2, y_test2 = train_test_split(combine, target, test_size=0.5)\n",
    "scaler.fit(X_train2)\n",
    "scaler.transform(X_train2)\n",
    "scaler.transform(X_test2)"
   ]
  },
  {
   "cell_type": "code",
   "execution_count": 11,
   "metadata": {
    "colab": {
     "base_uri": "https://localhost:8080/",
     "height": 190
    },
    "colab_type": "code",
    "id": "ChHuMuM5HJKq",
    "outputId": "1a3679ad-399f-4656-e859-c2af7cd5e196"
   },
   "outputs": [
    {
     "name": "stderr",
     "output_type": "stream",
     "text": [
      "/usr/local/lib/python3.6/dist-packages/sklearn/linear_model/logistic.py:432: FutureWarning: Default solver will be changed to 'lbfgs' in 0.22. Specify a solver to silence this warning.\n",
      "  FutureWarning)\n"
     ]
    },
    {
     "name": "stdout",
     "output_type": "stream",
     "text": [
      "CPU times: user 15.8 s, sys: 27.9 ms, total: 15.9 s\n",
      "Wall time: 15.9 s\n"
     ]
    },
    {
     "data": {
      "text/plain": [
       "LogisticRegression(C=1.0, class_weight=None, dual=False, fit_intercept=True,\n",
       "                   intercept_scaling=1, l1_ratio=None, max_iter=100,\n",
       "                   multi_class='warn', n_jobs=None, penalty='l2',\n",
       "                   random_state=None, solver='warn', tol=0.0001, verbose=0,\n",
       "                   warm_start=False)"
      ]
     },
     "execution_count": 11,
     "metadata": {
      "tags": []
     },
     "output_type": "execute_result"
    }
   ],
   "source": [
    "%%time\n",
    "log.fit(X_train2,y_train2)"
   ]
  },
  {
   "cell_type": "code",
   "execution_count": 13,
   "metadata": {
    "colab": {
     "base_uri": "https://localhost:8080/",
     "height": 51
    },
    "colab_type": "code",
    "id": "A-2HrQ2pHSwV",
    "outputId": "5bbed098-8d3b-4406-ee0d-df02c8467603"
   },
   "outputs": [
    {
     "name": "stdout",
     "output_type": "stream",
     "text": [
      "ROC-AUC: 0.6329705976510118\n",
      "PR-AUC: 0.6254819341376506\n"
     ]
    }
   ],
   "source": [
    "from sklearn import metrics\n",
    "fpr2, tpr2, threshold2 = metrics.roc_curve(y_test2, log.predict_proba(X_test2)[:,1])\n",
    "\n",
    "print('ROC-AUC:', metrics.auc(fpr2, tpr2))\n",
    "print('PR-AUC:', metrics.average_precision_score(y_test2, log.predict_proba(X_test2)[:,1]))"
   ]
  },
  {
   "cell_type": "markdown",
   "metadata": {
    "colab_type": "text",
    "id": "-slgwWw7OLD3"
   },
   "source": [
    "Времени потребовалось чуть больше, но и качество увеличилось"
   ]
  },
  {
   "cell_type": "markdown",
   "metadata": {
    "colab_type": "text",
    "id": "mLHOJUegFZSK"
   },
   "source": [
    "### Задание 5. Калибровка вероятностей (4 балла)\n",
    "\n",
    "В этом задании предлагается самостоятельно разобраться с калибровкой вероятностей. Для этого можно прочитать первый раздел в [конспекте](https://github.com/esokolov/ml-course-hse/blob/master/2018-fall/seminars/sem06.pdf).\n",
    "\n",
    "Перейдём к оценке качества выдаваемых алгоритмами вероятностей. Начнём с калибровочных кривых. \n",
    "\n",
    "Допустим, алгоритм возвращает некоторые числа от нуля до единицы. Хорошо ли они оценивают вероятность? Для этого разобьем отрезок $[0, 1]$ на несколько маленьких отрезков одинаковой длины. Рассмотрим $i$-й отрезок с границами $[a_i, b_i]$ и предсказания $p_1, p_2, \\dots, p_k$, которые попали в него. Пусть им соответствуют истинные ответы $y_1, y_2, \\dots, y_k$. Если алгоритм выдает корректные вероятности, то среди этих истинных ответов должно быть примерно $(a_i + b_i) / 2$ единиц. Иными словами, если нарисовать кривую, у которой по оси X отложены центры отрезков, а по оси Y — доли единичных ответов этих в отрезках, то она должна оказаться диагональной. Ниже приведена функция, которая должна рисовать такие кривые. В ней допущено две ошибки — найдите и исправьте их."
   ]
  },
  {
   "cell_type": "code",
   "execution_count": 0,
   "metadata": {
    "colab": {},
    "colab_type": "code",
    "id": "5R5L9VaRFZSM"
   },
   "outputs": [],
   "source": [
    "def plot_calibration_curve(y_test, preds): \n",
    "    bin_middle_points = []\n",
    "    bin_real_ratios = []\n",
    "    n_bins = 20\n",
    "    segment_width = 1.0 / n_bins\n",
    "    for i in range(n_bins):\n",
    "        left = segment_width * i\n",
    "        right = segment_width * (i + 1)\n",
    "        bin_middle_points.append((left + right) / 2) #Ошибка 1\n",
    "        bin_real_ratios.append(\n",
    "            np.mean(y_test[(preds >= left) & (preds < right)] == 1) #Ошибка 2\n",
    "        )\n",
    "    plt.plot(bin_middle_points, bin_real_ratios)"
   ]
  },
  {
   "cell_type": "markdown",
   "metadata": {
    "colab_type": "text",
    "id": "Hm-m19R3FZSU"
   },
   "source": [
    "Постройте калибровочную кривую для логистической регрессии (на той же самой выборке с тем же самым разбиением — можно использовать уже полученные ранее предсказания). Изучите распределение ответов классификатора (постройте гистограмму с помощью `plt.hist`)."
   ]
  },
  {
   "cell_type": "code",
   "execution_count": 16,
   "metadata": {
    "colab": {
     "base_uri": "https://localhost:8080/",
     "height": 380
    },
    "colab_type": "code",
    "id": "I-6xiHW3FZSW",
    "outputId": "a5b08ba1-7479-411a-943b-a86af9e1e3f7"
   },
   "outputs": [
    {
     "name": "stderr",
     "output_type": "stream",
     "text": [
      "/usr/local/lib/python3.6/dist-packages/numpy/core/fromnumeric.py:3257: RuntimeWarning: Mean of empty slice.\n",
      "  out=out, **kwargs)\n",
      "/usr/local/lib/python3.6/dist-packages/numpy/core/_methods.py:161: RuntimeWarning: invalid value encountered in double_scalars\n",
      "  ret = ret.dtype.type(ret / rcount)\n",
      "No handles with labels found to put in legend.\n"
     ]
    },
    {
     "data": {
      "image/png": "[encoded data removed]",
      "text/plain": [
       "<Figure size 432x288 with 1 Axes>"
      ]
     },
     "metadata": {
      "tags": []
     },
     "output_type": "display_data"
    }
   ],
   "source": [
    "plot_calibration_curve(y_test2, log.predict_proba(X_test2)[:,1])\n",
    "plt.title('Reliability curve')\n",
    "plt.legend(loc = 'lower right')\n",
    "plt.ylabel(\"Fraction of positives\")\n",
    "plt.xlabel('Mean predicted value')\n",
    "plt.show();"
   ]
  },
  {
   "cell_type": "code",
   "execution_count": 17,
   "metadata": {
    "colab": {
     "base_uri": "https://localhost:8080/",
     "height": 312
    },
    "colab_type": "code",
    "id": "G8ts3XuNH4n5",
    "outputId": "4aa10e2a-ed86-492a-fc30-95b07c32f40b"
   },
   "outputs": [
    {
     "name": "stderr",
     "output_type": "stream",
     "text": [
      "No handles with labels found to put in legend.\n"
     ]
    },
    {
     "data": {
      "image/png": "[encoded data removed]",
      "text/plain": [
       "<Figure size 432x288 with 1 Axes>"
      ]
     },
     "metadata": {
      "tags": []
     },
     "output_type": "display_data"
    }
   ],
   "source": [
    "plt.hist(log.predict_proba(X_test2)[:,1])\n",
    "plt.title('Распределение ответов классификатора')\n",
    "plt.legend(loc = 'lower right')\n",
    "plt.ylabel(\"Количество\")\n",
    "plt.xlabel('Ответы')\n",
    "plt.show();"
   ]
  },
  {
   "cell_type": "markdown",
   "metadata": {
    "colab_type": "text",
    "id": "dzazwGcCFZSf"
   },
   "source": [
    "Воспользуйтесь CalibratedClassifierCV из sklearn для калибровки вероятностей логистической регресии на обучении и постройте с его помощью предсказание для тестовой выборки. Нарисуйте на одном графике калибровочную кривую до и после калибровки. Есть ли улучшения?"
   ]
  },
  {
   "cell_type": "code",
   "execution_count": 0,
   "metadata": {
    "colab": {},
    "colab_type": "code",
    "id": "q4KScTTXFZSj"
   },
   "outputs": [],
   "source": [
    "from sklearn.calibration import CalibratedClassifierCV\n",
    "calibr= CalibratedClassifierCV(base_estimator=log)\n",
    "calibr.fit(X_train2,y_train2);"
   ]
  },
  {
   "cell_type": "code",
   "execution_count": 19,
   "metadata": {
    "colab": {
     "base_uri": "https://localhost:8080/",
     "height": 448
    },
    "colab_type": "code",
    "id": "YejZrmp-ILRq",
    "outputId": "d74fce5c-184a-49e8-8945-0a0094bdfd21"
   },
   "outputs": [
    {
     "name": "stderr",
     "output_type": "stream",
     "text": [
      "/usr/local/lib/python3.6/dist-packages/numpy/core/fromnumeric.py:3257: RuntimeWarning: Mean of empty slice.\n",
      "  out=out, **kwargs)\n",
      "/usr/local/lib/python3.6/dist-packages/numpy/core/_methods.py:161: RuntimeWarning: invalid value encountered in double_scalars\n",
      "  ret = ret.dtype.type(ret / rcount)\n",
      "No handles with labels found to put in legend.\n",
      "/usr/local/lib/python3.6/dist-packages/numpy/core/fromnumeric.py:3257: RuntimeWarning: Mean of empty slice.\n",
      "  out=out, **kwargs)\n",
      "/usr/local/lib/python3.6/dist-packages/numpy/core/_methods.py:161: RuntimeWarning: invalid value encountered in double_scalars\n",
      "  ret = ret.dtype.type(ret / rcount)\n"
     ]
    },
    {
     "data": {
      "image/png": "[encoded data removed]",
      "text/plain": [
       "<Figure size 432x288 with 1 Axes>"
      ]
     },
     "metadata": {
      "tags": []
     },
     "output_type": "display_data"
    }
   ],
   "source": [
    "plot_calibration_curve(y_test2, log.predict_proba(X_test2)[:,1])\n",
    "plt.title('Reliability curves')\n",
    "plt.legend(loc = 'lower right')\n",
    "plt.ylabel(\"Fraction of positives\")\n",
    "plt.xlabel('Mean predicted value')\n",
    "\n",
    "plot_calibration_curve(y_test2, calibr.predict_proba(X_test2)[:,1])\n",
    "plt.show();"
   ]
  },
  {
   "cell_type": "markdown",
   "metadata": {
    "colab_type": "text",
    "id": "JcawaNgfKpA7"
   },
   "source": [
    "Есть улучшение на отрезке [0;0.23], а дальше, в принципе, нет"
   ]
  },
  {
   "cell_type": "markdown",
   "metadata": {
    "colab_type": "text",
    "id": "nRGtOJYAFZSv"
   },
   "source": [
    "Что будет, если усилить регуляризацию логистической регресии в $10^3$ раз? Нарисуйте на одном графике калибровочную кривую для сильно регуляризованной регресии и для неё же после калибровки. Есть ли улучшения?"
   ]
  },
  {
   "cell_type": "code",
   "execution_count": 20,
   "metadata": {
    "colab": {
     "base_uri": "https://localhost:8080/",
     "height": 672
    },
    "colab_type": "code",
    "id": "uVihGwcoFZSx",
    "outputId": "a8a41e6a-77bd-46b7-c772-1b56c5813cdb"
   },
   "outputs": [
    {
     "name": "stderr",
     "output_type": "stream",
     "text": [
      "/usr/local/lib/python3.6/dist-packages/sklearn/linear_model/logistic.py:432: FutureWarning: Default solver will be changed to 'lbfgs' in 0.22. Specify a solver to silence this warning.\n",
      "  FutureWarning)\n",
      "/usr/local/lib/python3.6/dist-packages/numpy/core/fromnumeric.py:3257: RuntimeWarning: Mean of empty slice.\n",
      "  out=out, **kwargs)\n",
      "/usr/local/lib/python3.6/dist-packages/numpy/core/_methods.py:161: RuntimeWarning: invalid value encountered in double_scalars\n",
      "  ret = ret.dtype.type(ret / rcount)\n",
      "No handles with labels found to put in legend.\n",
      "/usr/local/lib/python3.6/dist-packages/sklearn/model_selection/_split.py:1978: FutureWarning: The default value of cv will change from 3 to 5 in version 0.22. Specify it explicitly to silence this warning.\n",
      "  warnings.warn(CV_WARNING, FutureWarning)\n",
      "/usr/local/lib/python3.6/dist-packages/sklearn/linear_model/logistic.py:432: FutureWarning: Default solver will be changed to 'lbfgs' in 0.22. Specify a solver to silence this warning.\n",
      "  FutureWarning)\n",
      "/usr/local/lib/python3.6/dist-packages/sklearn/linear_model/logistic.py:432: FutureWarning: Default solver will be changed to 'lbfgs' in 0.22. Specify a solver to silence this warning.\n",
      "  FutureWarning)\n",
      "/usr/local/lib/python3.6/dist-packages/sklearn/linear_model/logistic.py:432: FutureWarning: Default solver will be changed to 'lbfgs' in 0.22. Specify a solver to silence this warning.\n",
      "  FutureWarning)\n",
      "/usr/local/lib/python3.6/dist-packages/numpy/core/fromnumeric.py:3257: RuntimeWarning: Mean of empty slice.\n",
      "  out=out, **kwargs)\n",
      "/usr/local/lib/python3.6/dist-packages/numpy/core/_methods.py:161: RuntimeWarning: invalid value encountered in double_scalars\n",
      "  ret = ret.dtype.type(ret / rcount)\n"
     ]
    },
    {
     "data": {
      "image/png": "[encoded data removed]",
      "text/plain": [
       "<Figure size 432x288 with 1 Axes>"
      ]
     },
     "metadata": {
      "tags": []
     },
     "output_type": "display_data"
    },
    {
     "name": "stdout",
     "output_type": "stream",
     "text": [
      "CPU times: user 1min 54s, sys: 1.11 s, total: 1min 55s\n",
      "Wall time: 1min 54s\n"
     ]
    }
   ],
   "source": [
    "%%time\n",
    "log1000= LogisticRegression(C=1000)\n",
    "log1000.fit(X_train2, y_train2)\n",
    "\n",
    "plot_calibration_curve(y_test2, log1000.predict_proba(X_test2)[:,1])\n",
    "plt.title('Reliability curves')\n",
    "plt.legend(loc = 'lower right')\n",
    "plt.ylabel(\"Fraction of positives\")\n",
    "plt.xlabel('Mean predicted value')\n",
    "\n",
    "calibr1000= CalibratedClassifierCV(base_estimator=log1000)\n",
    "calibr1000.fit(X_train2,y_train2)\n",
    "\n",
    "plot_calibration_curve(y_test2, calibr1000.predict_proba(X_test2)[:,1])\n",
    "plt.show();"
   ]
  },
  {
   "cell_type": "markdown",
   "metadata": {
    "colab_type": "text",
    "id": "BsMTt7wKNM7s"
   },
   "source": [
    "По-моему, они что до этого, что сейчас одинаковые. Никаких особых изменений. Стало чуть лучше, но не сильно.\n"
   ]
  },
  {
   "cell_type": "code",
   "execution_count": 0,
   "metadata": {
    "colab": {},
    "colab_type": "code",
    "id": "WTcNgn4sNVLY"
   },
   "outputs": [],
   "source": []
  }
 ],
 "metadata": {
  "colab": {
   "collapsed_sections": [],
   "name": "homework3.ipynb",
   "provenance": []
  },
  "kernelspec": {
   "display_name": "Python 3",
   "language": "python",
   "name": "python3"
  },
  "language_info": {
   "codemirror_mode": {
    "name": "ipython",
    "version": 3
   },
   "file_extension": ".py",
   "mimetype": "text/x-python",
   "name": "python",
   "nbconvert_exporter": "python",
   "pygments_lexer": "ipython3",
   "version": "3.8.1"
  }
 },
 "nbformat": 4,
 "nbformat_minor": 1
}
